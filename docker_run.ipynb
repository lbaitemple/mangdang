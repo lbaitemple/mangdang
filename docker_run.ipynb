{
 "cells": [
  {
   "cell_type": "markdown",
   "id": "a5100175-d586-4eb0-9a03-fa2a3aeefe6f",
   "metadata": {},
   "source": [
    "### only install once"
   ]
  },
  {
   "cell_type": "code",
   "execution_count": null,
   "id": "bcbf5c50-ddab-4d98-86b2-605277ebd343",
   "metadata": {},
   "outputs": [],
   "source": [
    "%%bash\n",
    "## only install once\n",
    "\n",
    "#pip3 install awscli --upgrade --user\n",
    "sudo apt-get install awscli -y\n",
    "pip3 install awscli --upgrade --user\n",
    "\n"
   ]
  },
  {
   "cell_type": "code",
   "execution_count": null,
   "id": "c6f66356-9de2-4f68-8564-ca792e448aa9",
   "metadata": {},
   "outputs": [],
   "source": [
    "%%bash\n",
    "\n",
    "mkdir ~/.aws\n",
    "touch ~/.aws/credentials"
   ]
  },
  {
   "cell_type": "markdown",
   "id": "49d9cb81-6f27-4b2f-ac37-5fae6391cb52",
   "metadata": {},
   "source": [
    "### please fill out the following AWS credential so we can get the ECR docker container"
   ]
  },
  {
   "cell_type": "code",
   "execution_count": null,
   "id": "aef1ec48-3996-4b57-acae-c0e409f07f62",
   "metadata": {},
   "outputs": [],
   "source": [
    "%env  AWS_ACCESS_KEY_ID=\"\"\n",
    "%env  AWS_SECRET_ACCESS_KEY=\"\"\n",
    "%env  AWS_SESSION_TOKEN=\"\"\n",
    "%env  aws_account_id=\n",
    "%env  AWS_DEFAULT_REGION=us-east-1\n",
    "%env  repository_name=ros-humble-greengrass-minipupper\n",
    "%env  tag=latest\n",
    "\n",
    "from string import Template\n",
    "import os\n",
    "from pathlib import Path\n",
    "\n",
    "template_string = \"\"\"\n",
    "[default]\n",
    "aws_access_key_id=${AWS_ACCESS_KEY_ID}\n",
    "aws_secret_access_key=${AWS_SECRET_ACCESS_KEY}\n",
    "aws_session_token=${AWS_SESSION_TOKEN}\n",
    "\n",
    "\"\"\"\n",
    "\n",
    "template = Template(template_string)\n",
    "filled_content = template.substitute(os.environ)\n",
    "\n",
    "# Define the AWS credentials file path\n",
    "aws_credentials_path = Path.home() / '.aws' / 'credentials'\n",
    "\n",
    "# Ensure the .aws directory exists\n",
    "aws_credentials_path.parent.mkdir(parents=True, exist_ok=True)\n",
    "\n",
    "# Write the content to the AWS credentials file\n",
    "with open(aws_credentials_path, \"w\") as f:\n",
    "    f.write(filled_content)\n"
   ]
  },
  {
   "cell_type": "code",
   "execution_count": null,
   "id": "01a36fd7-0ac0-4f77-af8d-85f1403cbb06",
   "metadata": {},
   "outputs": [],
   "source": [
    "%%bash\n",
    "\n",
    "aws ecr get-login-password --region us-east-1 | docker login --username AWS --password-stdin ${aws_account_id}.dkr.ecr.us-east-1.amazonaws.com\n",
    "\n",
    "echo ${aws_account_id}.dkr.ecr.${AWS_DEFAULT_REGION}.amazonaws.com/${repository_name}:${tag}\n",
    "# pull ecr image\n",
    "docker pull ${aws_account_id}.dkr.ecr.${AWS_DEFAULT_REGION}.amazonaws.com/${repository_name}:${tag}\n",
    "\n",
    "# retag the docker image\n",
    "docker tag ${aws_account_id}.dkr.ecr.${AWS_DEFAULT_REGION}.amazonaws.com/${repository_name}:${tag} ${repository_name}:${tag} "
   ]
  },
  {
   "cell_type": "code",
   "execution_count": null,
   "id": "cd483271-e843-4058-9ab3-d594efdea6a3",
   "metadata": {},
   "outputs": [],
   "source": [
    "!docker-compose up"
   ]
  },
  {
   "cell_type": "code",
   "execution_count": null,
   "id": "cca5b934-b039-4b16-b2ce-c2ef3c17593c",
   "metadata": {},
   "outputs": [],
   "source": [
    "!docker-compose down"
   ]
  },
  {
   "cell_type": "code",
   "execution_count": null,
   "id": "36395c91-8143-4108-9fc3-cfb0eb27869a",
   "metadata": {},
   "outputs": [],
   "source": []
  }
 ],
 "metadata": {
  "kernelspec": {
   "display_name": "Python 3 (ipykernel)",
   "language": "python",
   "name": "python3"
  },
  "language_info": {
   "codemirror_mode": {
    "name": "ipython",
    "version": 3
   },
   "file_extension": ".py",
   "mimetype": "text/x-python",
   "name": "python",
   "nbconvert_exporter": "python",
   "pygments_lexer": "ipython3",
   "version": "3.10.12"
  }
 },
 "nbformat": 4,
 "nbformat_minor": 5
}
