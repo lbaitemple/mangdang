{
 "cells": [
  {
   "cell_type": "markdown",
   "id": "a5100175-d586-4eb0-9a03-fa2a3aeefe6f",
   "metadata": {},
   "source": [
    "### only install once"
   ]
  },
  {
   "cell_type": "code",
   "execution_count": null,
   "id": "bcbf5c50-ddab-4d98-86b2-605277ebd343",
   "metadata": {},
   "outputs": [],
   "source": [
    "%%bash\n",
    "## only install once\n",
    "\n",
    "#pip3 install awscli --upgrade --user\n",
    "sudo apt-get install awscli -y\n",
    "pip3 install awscli boto3 --upgrade --user\n",
    "\n"
   ]
  },
  {
   "cell_type": "markdown",
   "id": "49d9cb81-6f27-4b2f-ac37-5fae6391cb52",
   "metadata": {},
   "source": [
    "### please fill out the following AWS credential so we can get the ECR docker container"
   ]
  },
  {
   "cell_type": "code",
   "execution_count": null,
   "id": "aef1ec48-3996-4b57-acae-c0e409f07f62",
   "metadata": {},
   "outputs": [],
   "source": [
    "import os\n",
    "\n",
    "os.environ['AWS_ACCESS_KEY_ID']=\"\"\n",
    "os.environ['AWS_SECRET_ACCESS_KEY']=\"\"\n",
    "os.environ['AWS_SESSION_TOKEN']=\"\"\n",
    "# Set your ECR details as environment variables\n",
    "os.environ['ECR_ACCOUNT_ID']=''  # Replace with your actual account ID\n",
    "os.environ['ECR_REGION']='us-east-1'           # Replace with your actual region\n",
    "os.environ['ECR_IMAGE_NAME']='ros-humble-greengrass-minipupper'  # Replace with your image name\n",
    "os.environ['ECR_TAG']='latest'                       # Replace with your image tag\n",
    "\n",
    "\n",
    "from string import Template\n",
    "import os\n",
    "from pathlib import Path\n",
    "\n",
    "template_string = \"\"\"\n",
    "[default]\n",
    "aws_access_key_id=${AWS_ACCESS_KEY_ID}\n",
    "aws_secret_access_key=${AWS_SECRET_ACCESS_KEY}\n",
    "aws_session_token=${AWS_SESSION_TOKEN}\n",
    "\n",
    "\"\"\"\n",
    "\n",
    "template = Template(template_string)\n",
    "filled_content = template.substitute(os.environ)\n",
    "\n",
    "# Define the AWS credentials file path\n",
    "aws_credentials_path = Path.home() / '.aws' / 'credentials'\n",
    "\n",
    "# Ensure the .aws directory exists\n",
    "aws_credentials_path.parent.mkdir(parents=True, exist_ok=True)\n",
    "\n",
    "# Write the content to the AWS credentials file\n",
    "with open(aws_credentials_path, \"w\") as f:\n",
    "    f.write(filled_content)\n"
   ]
  },
  {
   "cell_type": "code",
   "execution_count": null,
   "id": "4d932f8c-97f8-4adc-af50-740cf6e2a6f1",
   "metadata": {},
   "outputs": [],
   "source": [
    "def retag_docker_image(old_image_tag, new_image_tag):\n",
    "    try:\n",
    "        # Run the docker tag command\n",
    "        subprocess.run(['docker', 'tag', old_image_tag, new_image_tag], check=True)\n",
    "        print(f\"Successfully retagged {old_image_tag} to {new_image_tag}\")\n",
    "    except subprocess.CalledProcessError as e:\n",
    "        print(f\"Error retagging image: {e}\")"
   ]
  },
  {
   "cell_type": "code",
   "execution_count": null,
   "id": "96614fef-94e8-45c7-8d57-7a3bec8434aa",
   "metadata": {},
   "outputs": [],
   "source": [
    "import base64\n",
    "# Initialize a session using boto3\n",
    "session = boto3.Session()\n",
    "ecr_client = session.client('ecr')\n",
    "\n",
    "# Get the authorization token\n",
    "token_response = ecr_client.get_authorization_token()\n",
    "auth_data = token_response['authorizationData'][0]\n",
    "registry = auth_data['proxyEndpoint']\n",
    "authorization_token = auth_data['authorizationToken']\n",
    "\n",
    "# Decode the token (it's base64 encoded)\n",
    "decoded_token = base64.b64decode(authorization_token).decode('utf-8')\n",
    "username, password = decoded_token.split(':')\n",
    "\n",
    "# Log in to ECR using Docker with --password-stdin\n",
    "try:\n",
    "    process = subprocess.Popen(\n",
    "        ['docker', 'login', '--username', username, '--password-stdin', registry],\n",
    "        stdin=subprocess.PIPE,\n",
    "        stdout=subprocess.PIPE,\n",
    "        stderr=subprocess.PIPE,\n",
    "    )\n",
    "    # Send the password to the subprocess\n",
    "    stdout, stderr = process.communicate(input=password.encode())\n",
    "\n",
    "    if process.returncode == 0:\n",
    "        print(\"Login successful!\")\n",
    "    else:\n",
    "        print(f\"Error during Docker login: {stderr.decode().strip()}\")\n",
    "except Exception as e:\n",
    "    print(f\"An error occurred: {e}\")\n",
    "\n",
    "# Pull the Docker image using environment variables\n",
    "image_name = f\"{os.getenv('ECR_ACCOUNT_ID')}.dkr.ecr.{os.getenv('ECR_REGION')}.amazonaws.com/{os.getenv('ECR_IMAGE_NAME')}:{os.getenv('ECR_TAG')}\"\n",
    "subprocess.run(['docker', 'pull', image_name])\n",
    "local_image = f\"{os.getenv('ECR_IMAGE_NAME')}:{os.getenv('ECR_TAG')}\"\n",
    "retag_docker_image(image_name, local_image)"
   ]
  },
  {
   "cell_type": "code",
   "execution_count": null,
   "id": "cd483271-e843-4058-9ab3-d594efdea6a3",
   "metadata": {},
   "outputs": [],
   "source": [
    "!docker-compose up"
   ]
  },
  {
   "cell_type": "code",
   "execution_count": null,
   "id": "cca5b934-b039-4b16-b2ce-c2ef3c17593c",
   "metadata": {},
   "outputs": [],
   "source": [
    "!docker-compose down"
   ]
  },
  {
   "cell_type": "code",
   "execution_count": null,
   "id": "22ae546f-18ed-4542-8b78-ce66c1fd8380",
   "metadata": {},
   "outputs": [],
   "source": []
  }
 ],
 "metadata": {
  "kernelspec": {
   "display_name": "Python 3 (ipykernel)",
   "language": "python",
   "name": "python3"
  },
  "language_info": {
   "codemirror_mode": {
    "name": "ipython",
    "version": 3
   },
   "file_extension": ".py",
   "mimetype": "text/x-python",
   "name": "python",
   "nbconvert_exporter": "python",
   "pygments_lexer": "ipython3",
   "version": "3.10.12"
  }
 },
 "nbformat": 4,
 "nbformat_minor": 5
}
