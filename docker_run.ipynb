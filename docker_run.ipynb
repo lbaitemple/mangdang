{
 "cells": [
  {
   "cell_type": "markdown",
   "id": "a5100175-d586-4eb0-9a03-fa2a3aeefe6f",
   "metadata": {},
   "source": [
    "### only install once"
   ]
  },
  {
   "cell_type": "code",
   "execution_count": null,
   "id": "bcbf5c50-ddab-4d98-86b2-605277ebd343",
   "metadata": {},
   "outputs": [],
   "source": [
    "%%bash\n",
    "## only install once\n",
    "sudo apt-get install awscli -y \n"
   ]
  },
  {
   "cell_type": "markdown",
   "id": "49d9cb81-6f27-4b2f-ac37-5fae6391cb52",
   "metadata": {},
   "source": [
    "### please fill out the following AWS credential so we can get the ECR docker container"
   ]
  },
  {
   "cell_type": "code",
   "execution_count": null,
   "id": "aef1ec48-3996-4b57-acae-c0e409f07f62",
   "metadata": {},
   "outputs": [],
   "source": [
    "%env AWS_ACCESS_KEY_ID=\"\"\n",
    "%env  AWS_SECRET_ACCESS_KEY=\"\"\n",
    "%env  AWS_SESSION_TOKEN=\"\"\n",
    "%env  AWS_DEFAULT_REGION=us-east-1\n",
    "%env  aws_account_id=\n",
    "%env  repository_name=ros-humble-greengrass-minipupper\n",
    "%env  tag=latest\n"
   ]
  },
  {
   "cell_type": "code",
   "execution_count": null,
   "id": "01a36fd7-0ac0-4f77-af8d-85f1403cbb06",
   "metadata": {},
   "outputs": [],
   "source": [
    "%%bash\n",
    "# login\n",
    "aws ecr get-login-password --region us-east-1 | docker login --username AWS --password-stdin ${aws_account_id}.dkr.ecr.us-east-1.amazonaws.com\n",
    "\n",
    "echo ${aws_account_id}.dkr.ecr.${AWS_DEFAULT_REGION}.amazonaws.com/${repository_name}:${tag}\n",
    "# pull ecr image\n",
    "docker pull ${aws_account_id}.dkr.ecr.${AWS_DEFAULT_REGION}.amazonaws.com/${repository_name}:${tag}\n",
    "\n",
    "# retag the docker image\n",
    "docker tag ${aws_account_id}.dkr.ecr.${AWS_DEFAULT_REGION}.amazonaws.com/${repository_name}:${tag} ${repository_name}:${tag} "
   ]
  },
  {
   "cell_type": "code",
   "execution_count": null,
   "id": "cd483271-e843-4058-9ab3-d594efdea6a3",
   "metadata": {},
   "outputs": [],
   "source": [
    "!docker-compose up"
   ]
  },
  {
   "cell_type": "code",
   "execution_count": null,
   "id": "2687b847-e56a-405e-ab02-32c2e37772c1",
   "metadata": {},
   "outputs": [],
   "source": []
  },
  {
   "cell_type": "code",
   "execution_count": null,
   "id": "76591968-ee42-4073-93d4-53c6666859ed",
   "metadata": {},
   "outputs": [],
   "source": []
  }
 ],
 "metadata": {
  "kernelspec": {
   "display_name": "Python 3 (ipykernel)",
   "language": "python",
   "name": "python3"
  },
  "language_info": {
   "codemirror_mode": {
    "name": "ipython",
    "version": 3
   },
   "file_extension": ".py",
   "mimetype": "text/x-python",
   "name": "python",
   "nbconvert_exporter": "python",
   "pygments_lexer": "ipython3",
   "version": "3.10.12"
  }
 },
 "nbformat": 4,
 "nbformat_minor": 5
}
