{
 "cells": [
  {
   "cell_type": "code",
   "execution_count": null,
   "id": "54d042ea",
   "metadata": {},
   "outputs": [],
   "source": []
  },
  {
   "cell_type": "markdown",
   "id": "285ed3ca",
   "metadata": {},
   "source": [
    "### Get the Greengrass software on the RPi\n",
    "\n",
    "Download and unzip the Greengrass core software."
   ]
  },
  {
   "cell_type": "code",
   "execution_count": 1,
   "id": "80bb1dfa",
   "metadata": {},
   "outputs": [
    {
     "name": "stdout",
     "output_type": "stream",
     "text": [
      "downloading\n",
      "Archive:  greengrass-nucleus-latest.zip\n",
      "  inflating: /home/ubuntu/GreengrassCore/META-INF/MANIFEST.MF  \n",
      "  inflating: /home/ubuntu/GreengrassCore/META-INF/SIGNER.SF  \n",
      "  inflating: /home/ubuntu/GreengrassCore/META-INF/SIGNER.RSA  \n",
      "  inflating: /home/ubuntu/GreengrassCore/LICENSE  \n",
      "  inflating: /home/ubuntu/GreengrassCore/NOTICE  \n",
      "  inflating: /home/ubuntu/GreengrassCore/README.md  \n",
      "  inflating: /home/ubuntu/GreengrassCore/THIRD-PARTY-LICENSES  \n",
      "  inflating: /home/ubuntu/GreengrassCore/bin/greengrass.exe  \n",
      "  inflating: /home/ubuntu/GreengrassCore/bin/greengrass.service.procd.template  \n",
      "  inflating: /home/ubuntu/GreengrassCore/bin/greengrass.service.template  \n",
      "  inflating: /home/ubuntu/GreengrassCore/bin/greengrass.xml.template  \n",
      "  inflating: /home/ubuntu/GreengrassCore/bin/loader  \n",
      "  inflating: /home/ubuntu/GreengrassCore/bin/loader.cmd  \n",
      "  inflating: /home/ubuntu/GreengrassCore/conf/recipe.yaml  \n",
      "  inflating: /home/ubuntu/GreengrassCore/lib/Greengrass.jar  \n",
      "done\n"
     ]
    }
   ],
   "source": [
    "!echo \"downloading\" && curl -s https://d2s8p88vqu9w66.cloudfront.net/releases/greengrass-nucleus-latest.zip > greengrass-nucleus-latest.zip && unzip -o greengrass-nucleus-latest.zip -d ~/GreengrassCore && echo \"done\""
   ]
  },
  {
   "cell_type": "markdown",
   "id": "ec4e018d",
   "metadata": {},
   "source": [
    "### Register the RPi with AWS using Greengrass\n",
    "\n",
    "You need to paste in your AWS credentials from the workshop authentication page.\n",
    "\n",
    "Run the Greengrass provisioning command."
   ]
  },
  {
   "cell_type": "code",
   "execution_count": 1,
   "id": "8b03dcf9",
   "metadata": {},
   "outputs": [
    {
     "name": "stdout",
     "output_type": "stream",
     "text": [
      "Provisioning AWS IoT resources for the device with IoT Thing Name: [ROS2_Sample_Robot]...\n",
      "Found IoT policy \"GreengrassV2IoTThingPolicy\", reusing it\n",
      "Creating keys and certificate...\n",
      "Attaching policy to certificate...\n",
      "Creating IoT Thing \"ROS2_Sample_Robot\"...\n",
      "Attaching certificate to IoT thing...\n",
      "Successfully provisioned AWS IoT resources for the device with IoT Thing Name: [ROS2_Sample_Robot]!\n",
      "Adding IoT Thing [ROS2_Sample_Robot] into Thing Group: [ROS2_Sample_Robots]...\n",
      "Successfully added Thing into Thing Group: [ROS2_Sample_Robots]\n",
      "Setting up resources for aws.greengrass.TokenExchangeService ... \n",
      "Attaching TES role policy to IoT thing...\n",
      "No managed IAM policy found, looking for user defined policy...\n",
      "IAM policy named \"LabRoleAccess\" already exists. Please attach it to the IAM role if not already\n",
      "Configuring Nucleus with provisioned resource details...\n",
      "Root CA file found at \"/greengrass/v2/rootCA.pem\". Contents will be preserved.\n",
      "Downloading Root CA from \"https://www.amazontrust.com/repository/AmazonRootCA1.pem\"\n",
      "Created device configuration\n",
      "Successfully configured Nucleus with provisioned resource details!\n",
      "Creating a deployment for Greengrass first party components to the thing group\n",
      "Configured Nucleus to deploy aws.greengrass.Cli component\n",
      "Successfully set up Nucleus as a system service\n",
      "done\n"
     ]
    }
   ],
   "source": [
    "%%bash\n",
    "\n",
    "export AWS_ACCESS_KEY_ID=\"XXXXXXXXXXXXX\"\n",
    "export AWS_SECRET_ACCESS_KEY=\"XXXXXXXXXXXXXXXXXX\"\n",
    "export AWS_SESSION_TOKEN=\"FwoGZXIvYXdzEFcaDGR9IVEqyJ5tNzJatSK9ATRh10YyeimPuNyIVOsayV2PKwrTCW8yI0PsqSq4YwVUVqV4E08XMcP6d8dcuN1DcezbbH2PxErWW6ka+4cabTboLK2//aujqmmejyFZJKare0oOUeXrkuNo66tKLLZKN+abTGi6FDp6iikI+hkVIm3hF8pr0RsRKxFmreAFdWltYXhgiUn+duqTQrR7zCbdQNKlFUx+2qwM3TwhA07XR5cN6uZfIhTS7uLQ4Xw2Fmy5OWKVReyV6vpJKELSTii8od6mBjIte3tK/Ra5PTbwh8ktX0+8ncVnwTO2zNBsIXCeUk0qMaAkxoFXBIv9l31xY6/H\"\n",
    "export AWS_DEFAULT_REGION=\"us-east-1\"\n",
    "\n",
    "sudo -E java -Droot=\"/greengrass/v2\" -Dlog.store=FILE -jar ../GreengrassCore/lib/Greengrass.jar \\\n",
    "           --thing-name ROS2_Sample_Robot \\\n",
    "           --thing-group-name ROS2_Sample_Robots \\\n",
    "           --tes-role-name LabRole \\\n",
    "           --tes-role-alias-name GreengrassCoreTokenExchangeRoleAlias \\\n",
    "           --component-default-user ggc_user:ggc_group \\\n",
    "           --provision true \\\n",
    "           --setup-system-service true \\\n",
    "           --deploy-dev-tools true \\\n",
    "           --aws-region ${AWS_DEFAULT_REGION}\n",
    "\n",
    "echo \"done\""
   ]
  },
  {
   "cell_type": "markdown",
   "id": "125f67fa",
   "metadata": {},
   "source": [
    "### Empower ggc_user to make full use of the Pupper's systems\n",
    "\n",
    "Give the newly created ggc_user access to run docker applications and the i2c bus:"
   ]
  },
  {
   "cell_type": "code",
   "execution_count": 2,
   "id": "5f19d4cb",
   "metadata": {},
   "outputs": [
    {
     "name": "stdout",
     "output_type": "stream",
     "text": [
      "done\n"
     ]
    }
   ],
   "source": [
    "%%bash\n",
    "\n",
    "sudo usermod -aG docker ggc_user\n",
    "sudo usermod -aG i2c ggc_user\n",
    "sudo usermod -aG video ggc_user\n",
    "sudo setfacl --modify group:docker:rw /var/run/docker.sock\n",
    "echo \"done\""
   ]
  },
  {
   "cell_type": "markdown",
   "id": "0f7d4236",
   "metadata": {},
   "source": [
    "### Check the RPi has appeared in the AWS Console\n",
    "\n",
    "In a new browser tab, open the Greengrass Console and click on Core Devices. You should see your new Greengrass application running!\n",
    "\n",
    "### Use the Greengrass CLI to see what the Pupper is capable of\n",
    "\n",
    "Note: The CLI deployment takes ~4 minutes, if you see errors here, wait a few minutes and try again.\n",
    "\n",
    "Run the following command to interact with the Greengrass CLI on the robot:"
   ]
  },
  {
   "cell_type": "code",
   "execution_count": 3,
   "id": "6c032bcb",
   "metadata": {},
   "outputs": [
    {
     "name": "stdout",
     "output_type": "stream",
     "text": [
      "Components currently running in Greengrass:\n",
      "Component Name: UpdateSystemPolicyService\n",
      "    Version: 0.0.0\n",
      "    State: RUNNING\n",
      "    Configuration: null\n",
      "Component Name: FleetStatusService\n",
      "    Version: null\n",
      "    State: RUNNING\n",
      "    Configuration: null\n",
      "Component Name: aws.greengrass.Nucleus\n",
      "    Version: 2.11.2\n",
      "    State: FINISHED\n",
      "    Configuration: {\"awsRegion\":\"us-east-1\",\"componentStoreMaxSizeBytes\":\"10000000000\",\"deploymentPollingFrequencySeconds\":\"15\",\"envStage\":\"prod\",\"fleetStatus\":{\"periodicStatusPublishIntervalSeconds\":86400.0},\"greengrassDataPlaneEndpoint\":\"\",\"greengrassDataPlanePort\":\"8443\",\"httpClient\":{},\"interpolateComponentConfiguration\":false,\"iotCredEndpoint\":\"c15h9zojj9hvx9.credentials.iot.us-east-1.amazonaws.com\",\"iotDataEndpoint\":\"a3v9lbyyljyyx8-ats.iot.us-east-1.amazonaws.com\",\"iotRoleAlias\":\"GreengrassCoreTokenExchangeRoleAlias\",\"jvmOptions\":\"-Dlog.store=FILE\",\"logging\":{},\"mqtt\":{\"spooler\":{}},\"networkProxy\":{\"proxy\":{}},\"platformOverride\":{},\"runWithDefault\":{\"posixUser\":\"ggc_user:ggc_group\"},\"telemetry\":{}}\n",
      "Component Name: DeploymentService\n",
      "    Version: 0.0.0\n",
      "    State: RUNNING\n",
      "    Configuration: null\n",
      "Component Name: aws.greengrass.Cli\n",
      "    Version: 2.11.2\n",
      "    State: RUNNING\n",
      "    Configuration: {\"AuthorizedPosixGroups\":null,\"AuthorizedWindowsGroups\":null}\n",
      "Component Name: TelemetryAgent\n",
      "    Version: 0.0.0\n",
      "    State: RUNNING\n",
      "    Configuration: null\n"
     ]
    }
   ],
   "source": [
    "%%bash\n",
    "\n",
    "cd /greengrass/v2/bin\n",
    "sudo ./greengrass-cli component list"
   ]
  },
  {
   "cell_type": "markdown",
   "id": "9d3a582d",
   "metadata": {},
   "source": [
    "### Done!\n",
    "\n",
    "You can now return to the workshop documentation."
   ]
  }
 ],
 "metadata": {
  "kernelspec": {
   "display_name": "Python 3 (ipykernel)",
   "language": "python",
   "name": "python3"
  },
  "language_info": {
   "codemirror_mode": {
    "name": "ipython",
    "version": 3
   },
   "file_extension": ".py",
   "mimetype": "text/x-python",
   "name": "python",
   "nbconvert_exporter": "python",
   "pygments_lexer": "ipython3",
   "version": "3.10.12"
  }
 },
 "nbformat": 4,
 "nbformat_minor": 5
}
