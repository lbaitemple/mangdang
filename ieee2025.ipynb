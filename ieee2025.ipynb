{
 "cells": [
  {
   "cell_type": "code",
   "execution_count": null,
   "id": "26cf200e-9735-4e58-a741-9b6cdb1cd05e",
   "metadata": {},
   "outputs": [],
   "source": [
    "%%bash\n",
    "\n",
    "## copy music file and dance routines\n",
    "mkdir -p ~/minipupper/playlists\n",
    "mkdir -p ~/minipupper/routines\n",
    "cp -r ~/mangdang/playlists  ~/minipupper/\n",
    "cp -r ~/mangdang/routines  ~/minipupper/\n",
    "\n",
    "\n",
    "## cop gemini credential\n",
    "cp -r .gemini ~/.gemini\n",
    "\n",
    "## setup sound conf\n",
    "bash ./create_asound_conf.sh    \n",
    "\n",
    "## install audio\n",
    "sudo apt-get install -y python3-pyaudio\n",
    "sudo apt-get install ffmpeg portaudio19-dev -y\n",
    "\n",
    "## install python library\n",
    "pip uninstall pycrypto\n",
    "pip install opencv-python-headless ipywidgets opencv-python==4.10.0.84\n",
    "pip install pydub pyaudio pydub pycryptodome simple-pid"
   ]
  },
  {
   "cell_type": "code",
   "execution_count": null,
   "id": "998bc8a2-8a6c-4f02-a80a-ecbfc42a15bd",
   "metadata": {},
   "outputs": [],
   "source": []
  }
 ],
 "metadata": {
  "kernelspec": {
   "display_name": "Python 3 (ipykernel)",
   "language": "python",
   "name": "python3"
  },
  "language_info": {
   "codemirror_mode": {
    "name": "ipython",
    "version": 3
   },
   "file_extension": ".py",
   "mimetype": "text/x-python",
   "name": "python",
   "nbconvert_exporter": "python",
   "pygments_lexer": "ipython3",
   "version": "3.10.12"
  }
 },
 "nbformat": 4,
 "nbformat_minor": 5
}
