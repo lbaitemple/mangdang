{
 "cells": [
  {
   "cell_type": "code",
   "execution_count": null,
   "id": "4e4343d8-fa22-42e9-b6c9-7ba3a02099df",
   "metadata": {},
   "outputs": [],
   "source": [
    "%%bash\n",
    "pip install opencv-python-headless ipywidgets\n"
   ]
  },
  {
   "cell_type": "code",
   "execution_count": null,
   "id": "c52ccb58-8b6c-4489-a886-fffd04ce7838",
   "metadata": {},
   "outputs": [],
   "source": [
    "# code generated from chatgpt https://chatgpt.com/share/17a464ec-72c3-48b7-8d4c-37d48d7e3d9e\n",
    "# Import necessary libraries\n",
    "import cv2\n",
    "from IPython.display import display\n",
    "import ipywidgets as widgets\n",
    "from threading import Thread\n",
    "\n",
    "# Function to continuously update the image widget with video frames\n",
    "def update_image_widget(image_widget):\n",
    "    # Open a connection to the RPi camera\n",
    "    cap = cv2.VideoCapture(0)  # 0 is usually the default camera\n",
    "    while True:\n",
    "        # Capture frame-by-frame\n",
    "        ret, frame = cap.read()\n",
    "        if not ret:\n",
    "            continue\n",
    "        \n",
    "        # Convert the frame to JPEG format\n",
    "        _, frame_jpeg = cv2.imencode('.jpeg', frame)\n",
    "        \n",
    "        # Update the image widget with the new frame\n",
    "        image_widget.value = frame_jpeg.tobytes()\n",
    "        \n",
    "    # Release the camera resource\n",
    "    cap.release()\n",
    "\n",
    "# Create an Image widget to display video frames\n",
    "image_widget = widgets.Image(format='jpeg', width=640, height=480)\n",
    "\n",
    "# Display the image widget\n",
    "display(image_widget)\n",
    "\n",
    "# Start a thread to update the image widget with video frames\n",
    "thread = Thread(target=update_image_widget, args=(image_widget,))\n",
    "thread.start()\n"
   ]
  },
  {
   "cell_type": "code",
   "execution_count": null,
   "id": "e94f17c5-6a85-48c0-8b1e-15476518ab16",
   "metadata": {},
   "outputs": [],
   "source": []
  }
 ],
 "metadata": {
  "kernelspec": {
   "display_name": "Python 3 (ipykernel)",
   "language": "python",
   "name": "python3"
  },
  "language_info": {
   "codemirror_mode": {
    "name": "ipython",
    "version": 3
   },
   "file_extension": ".py",
   "mimetype": "text/x-python",
   "name": "python",
   "nbconvert_exporter": "python",
   "pygments_lexer": "ipython3",
   "version": "3.10.12"
  }
 },
 "nbformat": 4,
 "nbformat_minor": 5
}
