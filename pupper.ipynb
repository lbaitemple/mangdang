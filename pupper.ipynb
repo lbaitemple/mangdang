{
 "cells": [
  {
   "cell_type": "code",
   "execution_count": null,
   "id": "54d042ea",
   "metadata": {},
   "outputs": [],
   "source": []
  },
  {
   "cell_type": "markdown",
   "id": "285ed3ca",
   "metadata": {},
   "source": [
    "### Get the Greengrass software on the Pupper\n",
    "\n",
    "Download and unzip the Greengrass core software."
   ]
  },
  {
   "cell_type": "code",
   "execution_count": 1,
   "id": "80bb1dfa",
   "metadata": {},
   "outputs": [
    {
     "name": "stdout",
     "output_type": "stream",
     "text": [
      "downloading\n",
      "Archive:  greengrass-nucleus-latest.zip\n",
      "  inflating: GreengrassCore/META-INF/MANIFEST.MF  \n",
      "  inflating: GreengrassCore/META-INF/SIGNER.SF  \n",
      "  inflating: GreengrassCore/META-INF/SIGNER.RSA  \n",
      "  inflating: GreengrassCore/LICENSE  \n",
      "  inflating: GreengrassCore/NOTICE   \n",
      "  inflating: GreengrassCore/README.md  \n",
      "  inflating: GreengrassCore/THIRD-PARTY-LICENSES  \n",
      "  inflating: GreengrassCore/bin/greengrass.exe  \n",
      "  inflating: GreengrassCore/bin/greengrass.service.procd.template  \n",
      "  inflating: GreengrassCore/bin/greengrass.service.template  \n",
      "  inflating: GreengrassCore/bin/greengrass.xml.template  \n",
      "  inflating: GreengrassCore/bin/loader  \n",
      "  inflating: GreengrassCore/bin/loader.cmd  \n",
      "  inflating: GreengrassCore/conf/recipe.yaml  \n",
      "  inflating: GreengrassCore/lib/Greengrass.jar  \n",
      "done\n"
     ]
    }
   ],
   "source": [
    "!echo \"downloading\" && curl -s https://d2s8p88vqu9w66.cloudfront.net/releases/greengrass-nucleus-latest.zip > greengrass-nucleus-latest.zip && unzip -o greengrass-nucleus-latest.zip -d GreengrassCore && echo \"done\""
   ]
  },
  {
   "cell_type": "markdown",
   "id": "ec4e018d",
   "metadata": {},
   "source": [
    "### Register the Pupper with AWS using Greengrass\n",
    "\n",
    "You need to paste in your AWS credentials from the workshop authentication page.\n",
    "\n",
    "Run the Greengrass provisioning command."
   ]
  },
  {
   "cell_type": "code",
   "execution_count": 4,
   "id": "8b03dcf9",
   "metadata": {},
   "outputs": [
    {
     "name": "stdout",
     "output_type": "stream",
     "text": [
      "Provisioning AWS IoT resources for the device with IoT Thing Name: [pupper-dancer]...\n",
      "Found IoT policy \"GreengrassV2IoTThingPolicy\", reusing it\n",
      "Creating keys and certificate...\n",
      "Attaching policy to certificate...\n",
      "Creating IoT Thing \"pupper-dancer\"...\n",
      "Attaching certificate to IoT thing...\n",
      "Successfully provisioned AWS IoT resources for the device with IoT Thing Name: [pupper-dancer]!\n",
      "Adding IoT Thing [pupper-dancer] into Thing Group: [dancers]...\n",
      "IoT Thing Group \"dancers\" already existed, reusing it\n",
      "Successfully added Thing into Thing Group: [dancers]\n",
      "Setting up resources for aws.greengrass.TokenExchangeService ... \n",
      "Attaching TES role policy to IoT thing...\n",
      "No managed IAM policy found, looking for user defined policy...\n",
      "IAM policy named \"LabRoleAccess\" already exists. Please attach it to the IAM role if not already\n",
      "Configuring Nucleus with provisioned resource details...\n",
      "Root CA file found at \"/greengrass/v2/rootCA.pem\". Contents will be preserved.\n",
      "Downloading Root CA from \"https://www.amazontrust.com/repository/AmazonRootCA1.pem\"\n",
      "Created device configuration\n",
      "Successfully configured Nucleus with provisioned resource details!\n",
      "Thing group exists, it could have existing deployment and devices, hence NOT creating deployment for Greengrass first party dev tools, please manually create a deployment if you wish to\n",
      "Successfully set up Nucleus as a system service\n",
      "done\n"
     ]
    }
   ],
   "source": [
    "%%bash\n",
    "\n",
    "export AWS_ACCESS_KEY_ID=\"XxxXXXXXXXXXX\"\n",
    "export AWS_SECRET_ACCESS_KEY=\"XXXXSDSDSDSDSDSDS\"\n",
    "export AWS_SESSION_TOKEN=\"FwoGZXIvYXdzEOv//////////wEaDMAMXxpLbdXIuZEQoSK9AS7pykWCKHFxaTCqKJO0EGvc7geGfdMv8E5MiRs1Wqkok/mIXDGxlbgH3V84i04rXKZCZx5gvSg4DfknFfsTvcHEB2zLFD1iBWjBd3cZCa98NmtQvcgW1Q73/A09o7Tdz6Oc+S6dSyXhKZkWVjJglyIAhNahc3mUbws6TGO08dIM+QasijocVevOWh74uCc+ymZBXrf3NKDugULHDlaeFyWOAITkRby4wRG8lYsCEwogLvgZ/pa8+dQtD74a0yjy8NWlBjItjdhL92AQiIyixgXGPBhDolZrZm9CRFX1FAZjkaszp9QjkiMeDCYX3EGsdh2j\"\n",
    "export AWS_DEFAULT_REGION=\"us-east-1\"\n",
    "\n",
    "sudo -E java -Droot=\"/greengrass/v2\" -Dlog.store=FILE -jar ~/GreengrassCore/lib/Greengrass.jar \\\n",
    "--thing-name pupper-dancer \\\n",
    "--thing-group-name dancers \\\n",
    "--tes-role-name LabRole \\\n",
    "--tes-role-alias-name GreengrassCoreTokenExchangeRoleAlias \\\n",
    "--component-default-user ggc_user:ggc_group \\\n",
    "--provision true \\\n",
    "--setup-system-service true \\\n",
    "--deploy-dev-tools true \\\n",
    "--aws-region ${AWS_DEFAULT_REGION}\n",
    "\n",
    "echo \"done\""
   ]
  },
  {
   "cell_type": "markdown",
   "id": "125f67fa",
   "metadata": {},
   "source": [
    "### Empower ggc_user to make full use of the Pupper's systems\n",
    "\n",
    "Give the newly created ggc_user access to run docker applications and the i2c bus:"
   ]
  },
  {
   "cell_type": "code",
   "execution_count": 2,
   "id": "5f19d4cb",
   "metadata": {},
   "outputs": [
    {
     "name": "stdout",
     "output_type": "stream",
     "text": [
      "done\n"
     ]
    }
   ],
   "source": [
    "%%bash\n",
    "\n",
    "sudo usermod -aG docker ggc_user\n",
    "sudo usermod -aG i2c ggc_user\n",
    "sudo usermod -aG video ggc_user\n",
    "sudo setfacl --modify group:docker:rw /var/run/docker.sock\n",
    "echo \"done\""
   ]
  },
  {
   "cell_type": "markdown",
   "id": "0f7d4236",
   "metadata": {},
   "source": [
    "### Check the Pupper has appeared in the AWS Console\n",
    "\n",
    "In a new browser tab, open the Greengrass Console and click on Core Devices. You should see your new Greengrass application running!\n",
    "\n",
    "### Use the Greengrass CLI to see what the Pupper is capable of\n",
    "\n",
    "Note: The CLI deployment takes ~4 minutes, if you see errors here, wait a few minutes and try again.\n",
    "\n",
    "Run the following command to interact with the Greengrass CLI on the robot:"
   ]
  },
  {
   "cell_type": "code",
   "execution_count": 5,
   "id": "6c032bcb",
   "metadata": {},
   "outputs": [
    {
     "name": "stdout",
     "output_type": "stream",
     "text": [
      "Components currently running in Greengrass:\n",
      "Component Name: DeploymentService\n",
      "    Version: 0.0.0\n",
      "    State: RUNNING\n",
      "    Configuration: null\n",
      "Component Name: TelemetryAgent\n",
      "    Version: 0.0.0\n",
      "    State: RUNNING\n",
      "    Configuration: null\n",
      "Component Name: UpdateSystemPolicyService\n",
      "    Version: 0.0.0\n",
      "    State: RUNNING\n",
      "    Configuration: null\n",
      "Component Name: aws.greengrass.Nucleus\n",
      "    Version: 2.11.0\n",
      "    State: FINISHED\n",
      "    Configuration: {\"awsRegion\":\"us-east-1\",\"componentStoreMaxSizeBytes\":\"10000000000\",\"deploymentPollingFrequencySeconds\":\"15\",\"envStage\":\"prod\",\"fleetStatus\":{\"periodicStatusPublishIntervalSeconds\":86400.0},\"greengrassDataPlaneEndpoint\":\"\",\"greengrassDataPlanePort\":\"8443\",\"httpClient\":{},\"interpolateComponentConfiguration\":false,\"iotCredEndpoint\":\"c15h9zojj9hvx9.credentials.iot.us-east-1.amazonaws.com\",\"iotDataEndpoint\":\"a3v9lbyyljyyx8-ats.iot.us-east-1.amazonaws.com\",\"iotRoleAlias\":\"GreengrassCoreTokenExchangeRoleAlias\",\"jvmOptions\":\"-Dlog.store=FILE\",\"logging\":{},\"mqtt\":{\"spooler\":{}},\"networkProxy\":{\"proxy\":{}},\"platformOverride\":{},\"runWithDefault\":{\"posixShell\":\"sh\",\"posixUser\":\"ggc_user:ggc_group\"},\"telemetry\":{}}\n",
      "Component Name: aws.greengrass.Cli\n",
      "    Version: 2.11.0\n",
      "    State: RUNNING\n",
      "    Configuration: {\"AuthorizedPosixGroups\":null,\"AuthorizedWindowsGroups\":null}\n",
      "Component Name: FleetStatusService\n",
      "    Version: 0.0.0\n",
      "    State: RUNNING\n",
      "    Configuration: null\n",
      "Component Name: aws.greengrass.DockerApplicationManager\n",
      "    Version: 2.0.10\n",
      "    State: RUNNING\n",
      "    Configuration: {}\n",
      "Component Name: aws.greengrass.TokenExchangeService\n",
      "    Version: 2.0.3\n",
      "    State: RUNNING\n",
      "    Configuration: {\"activePort\":45319.0,\"port\":0.0}\n",
      "Component Name: com.example.ros.pupper.dance\n",
      "    Version: 1.0.0\n",
      "    State: BROKEN\n",
      "    Configuration: {\"auto_start\":true}\n"
     ]
    }
   ],
   "source": [
    "%%bash\n",
    "\n",
    "cd /greengrass/v2/bin\n",
    "sudo ./greengrass-cli component list"
   ]
  },
  {
   "cell_type": "markdown",
   "id": "9d3a582d",
   "metadata": {},
   "source": [
    "### Done!\n",
    "\n",
    "You can now return to the workshop documentation."
   ]
  }
 ],
 "metadata": {
  "kernelspec": {
   "display_name": "Python 3 (ipykernel)",
   "language": "python",
   "name": "python3"
  },
  "language_info": {
   "codemirror_mode": {
    "name": "ipython",
    "version": 3
   },
   "file_extension": ".py",
   "mimetype": "text/x-python",
   "name": "python",
   "nbconvert_exporter": "python",
   "pygments_lexer": "ipython3",
   "version": "3.8.10"
  }
 },
 "nbformat": 4,
 "nbformat_minor": 5
}
