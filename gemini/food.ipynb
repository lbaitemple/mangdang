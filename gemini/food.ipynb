{
 "cells": [
  {
   "cell_type": "code",
   "execution_count": 1,
   "id": "961adcfb-9d47-4491-b96b-686c4fb048a4",
   "metadata": {},
   "outputs": [],
   "source": [
    "from dotenv import load_dotenv\n",
    "import streamlit as st\n",
    "import os\n",
    "import google_api\n",
    "from PIL import Image\n",
    "\n",
    "load_dotenv(dotenv_path='./.env')\n",
    "api_path = os.environ.get('API_KEY_PATH', '')\n",
    "if os.path.exists(api_path):\n",
    "    google_api.init_credentials(api_path)"
   ]
  },
  {
   "cell_type": "code",
   "execution_count": 2,
   "id": "3be107f8-8f8c-4856-9513-54c4a74ee5f0",
   "metadata": {},
   "outputs": [
    {
     "data": {
      "application/vnd.jupyter.widget-view+json": {
       "model_id": "915cfcb63c4244d8b5835d5b43394ad0",
       "version_major": 2,
       "version_minor": 0
      },
      "text/plain": [
       "HBox(children=(Image(value=b''), Textarea(value='You are an expert nutritionist where you need to see the food…"
      ]
     },
     "metadata": {},
     "output_type": "display_data"
    },
    {
     "data": {
      "application/vnd.jupyter.widget-view+json": {
       "model_id": "53937c2cb0ee4ceab13f5dcb80042af9",
       "version_major": 2,
       "version_minor": 0
      },
      "text/plain": [
       "HBox(children=(Button(description='Analyze', style=ButtonStyle()), Button(description='Stop Camera', style=But…"
      ]
     },
     "metadata": {},
     "output_type": "display_data"
    },
    {
     "data": {
      "application/vnd.jupyter.widget-view+json": {
       "model_id": "037b452fcad64f7fbbfc5998be41aeaf",
       "version_major": 2,
       "version_minor": 0
      },
      "text/plain": [
       "Textarea(value='', description='Result:', disabled=True, layout=Layout(height='200px', width='600px'), placeho…"
      ]
     },
     "metadata": {},
     "output_type": "display_data"
    }
   ],
   "source": [
    "# Import Required Libraries\n",
    "import os, io\n",
    "import json\n",
    "import cv2\n",
    "from google_api import ai_image_response as ai_image_response\n",
    "import ipywidgets as widgets\n",
    "from IPython.display import display, clear_output\n",
    "from threading import Thread\n",
    "from dotenv import load_dotenv\n",
    "from langchain_google_vertexai import ChatVertexAI\n",
    "\n",
    "def get_gemini_repsonse(input_prompt,image):\n",
    "\n",
    "    model = ChatVertexAI(\n",
    "        model_name='gemini-1.5-pro',\n",
    "        convert_system_message_to_human=True,\n",
    "    )\n",
    "\n",
    "    response=ai_image_response(model, image=image, text=input_prompt)\n",
    "\n",
    "    return response\n",
    "    \n",
    "# Create Widgets\n",
    "input_prompt_widget = widgets.Textarea(\n",
    "    value=\"\"\"You are an expert nutritionist where you need to see the food items from the image\n",
    "    and calculate the total calories, also provide the details of every food item with calories intake\n",
    "    in the below format:\n",
    "\n",
    "    1. Item 1 - no of calories\n",
    "    2. Item 2 - no of calories\n",
    "    ----\n",
    "    ----\n",
    "    Finally, you can mention whether the food is healthy or not and also mention the percentage split\n",
    "    of the ratio of carbohydrates, fats, fibers, sugar, and other things required in our diet.\"\"\",\n",
    "    placeholder='Type your input prompt here',\n",
    "    description='Prompt:',\n",
    "    layout={'width': '600px', 'height': '200px'}\n",
    ")\n",
    "\n",
    "analysis_button = widgets.Button(description='Analyze')\n",
    "stop_camera_button = widgets.Button(description='Stop Camera')\n",
    "clear_button = widgets.Button(description='Clear')\n",
    "\n",
    "output_label = widgets.Textarea(\n",
    "    value='',\n",
    "    placeholder='The analysis result will be displayed here...',\n",
    "    description='Result:',\n",
    "    layout={'width': '600px', 'height': '200px'},\n",
    "    disabled=True  # Make the output label read-only\n",
    ")\n",
    "\n",
    "camera_view = widgets.Image()\n",
    "\n",
    "# Initialize camera\n",
    "cap = cv2.VideoCapture(0)  # Use 0 for the default camera\n",
    "\n",
    "def update_camera_view():\n",
    "    while True:\n",
    "        ret, frame = cap.read()\n",
    "        if ret:\n",
    "            # Convert the frame to RGB format\n",
    "            #frame_rgb = cv2.cvtColor(frame, cv2.COLOR_BGR2RGB)\n",
    "            # Convert the frame to bytes\n",
    "            _, buffer = cv2.imencode('.jpg', frame)\n",
    "            camera_view.value = buffer.tobytes()\n",
    "\n",
    "# Define Analysis Function\n",
    "def analyze_image(b):\n",
    "    input_prompt = input_prompt_widget.value\n",
    "    ret, frame = cap.read()\n",
    "    if not ret:\n",
    "        output_label.value = \"Failed to capture image\"\n",
    "        return\n",
    "    \n",
    "    # Convert the captured frame to RGB\n",
    "    #frame_rgb = cv2.cvtColor(frame, cv2.COLOR_BGR2RGB)\n",
    "\n",
    "    frame_rgb = cv2.cvtColor(frame, cv2.COLOR_BGR2RGB)\n",
    "    pil_image = Image.fromarray(frame_rgb)\n",
    "    \n",
    "\n",
    "    print(\"sending.input_prompt..\")\n",
    "    output_label.value = 'The analysis result will be displayed here...'\n",
    "    response = get_gemini_repsonse(input_prompt, pil_image)\n",
    "    #   response = get_gemini_repsonse(multi_model, image_data[\"data\"], input_prompt)\n",
    "    #response=multi_model.generate_content([input_prompt,image_data[0]])\n",
    "    print(response)\n",
    "    #print(response)\n",
    "    \n",
    "    # Display response in output label\n",
    "    output_label.value = f\"Food Details:\\n{response}\"\n",
    "\n",
    "def clear_analyze(b):\n",
    "    output_label.value = \"\"\n",
    "\n",
    "# Attach Button Handlers\n",
    "analysis_button.on_click(analyze_image)\n",
    "clear_button.on_click(clear_analyze)\n",
    "\n",
    "# Display Layout\n",
    "display(widgets.HBox([camera_view, input_prompt_widget]))\n",
    "display(widgets.HBox([analysis_button, stop_camera_button, clear_button]))\n",
    "display(output_label)\n",
    "\n",
    "# Start the camera feed in a separate thread\n",
    "camera_thread = Thread(target=update_camera_view)\n",
    "camera_thread.daemon = True\n",
    "camera_thread.start()\n"
   ]
  },
  {
   "cell_type": "code",
   "execution_count": null,
   "id": "dc0e383e-4af6-45b8-940e-78105cd11d34",
   "metadata": {},
   "outputs": [],
   "source": []
  }
 ],
 "metadata": {
  "kernelspec": {
   "display_name": "Python 3 (ipykernel)",
   "language": "python",
   "name": "python3"
  },
  "language_info": {
   "codemirror_mode": {
    "name": "ipython",
    "version": 3
   },
   "file_extension": ".py",
   "mimetype": "text/x-python",
   "name": "python",
   "nbconvert_exporter": "python",
   "pygments_lexer": "ipython3",
   "version": "3.10.12"
  }
 },
 "nbformat": 4,
 "nbformat_minor": 5
}
